{
 "cells": [
  {
   "cell_type": "markdown",
   "id": "1e8d8396",
   "metadata": {},
   "source": [
    "# Fibonacci Series"
   ]
  },
  {
   "cell_type": "markdown",
   "id": "514d7a59",
   "metadata": {},
   "source": [
    "The Fibonacci numbers, commonly denoted Fn , form a sequence, the Fibonacci sequence, in which each number is the sum of the two preceding ones. The sequence commonly starts from 0 and 1. Starting from 0 and 1, the first few values in the sequence are $0, 1, 1, 2, 3, 5, 8, 13, 21, 34, 55, 89, 144$.\n",
    "\n",
    "Source :https://en.wikipedia.org/wiki/Fibonacci_number"
   ]
  },
  {
   "cell_type": "code",
   "execution_count": 4,
   "id": "2c495749",
   "metadata": {},
   "outputs": [
    {
     "name": "stdout",
     "output_type": "stream",
     "text": [
      "Enter the number of stage: 4\n"
     ]
    }
   ],
   "source": [
    "import turtle\n",
    "import math\n",
    " \n",
    "    #square setup\n",
    "def setup(square_b):\n",
    "    turtle.forward(square_b * factor)\n",
    "    turtle.left(90)\n",
    "    turtle.forward(square_b * factor)\n",
    "    turtle.left(90)\n",
    "    turtle.forward(square_b * factor)\n",
    " \n",
    "    \n",
    "def fibspiral(s):\n",
    "    a = 0                                            #starting first number \n",
    "    b = 1                                            #starting second number \n",
    "    sq_a = a\n",
    "    sq_b = b\n",
    " \n",
    "    turtle.title(\"Fibonacci Spiral\")                 # title \n",
    "    turtle.setup(1000,1000)                          # Screen size \n",
    "    turtle.setworldcoordinates(-500,-500,500,500)    # coordinates to start\n",
    "    \n",
    "    # Fibonacci sqaure\n",
    "    turtle.forward(b * factor)\n",
    "    turtle.left(90)\n",
    "    setup(b)\n",
    "   \n",
    "    for i in range(s-1):\n",
    "                                                  # Proceeding in the Fibonacci sqaure\n",
    "        t = sq_b\n",
    "        sq_b += sq_a\n",
    "        sq_a = t\n",
    "        \n",
    "        turtle.backward(sq_a * factor)\n",
    "        turtle.right(90)\n",
    "        setup(sq_b)\n",
    "                                                 \n",
    "    turtle.penup()\n",
    "    turtle.pencolor(\"blue\")                      # Setting the pen color to blue\n",
    "    turtle.setposition(factor, 0)                # Pen to starting point of the spiral\n",
    "    turtle.seth(0)\n",
    "    turtle.pendown()\n",
    "    turtle.left(90)                    \n",
    "        \n",
    "    # Fibonacci Spiral \n",
    "    for i in range(s):\n",
    "        spiral = math.pi * b * factor / 2\n",
    "        spiral /= 90\n",
    "        for j in range(90):\n",
    "            turtle.forward(spiral)\n",
    "            turtle.left(1)\n",
    "        t = a\n",
    "        a = b\n",
    "        b += t\n",
    " \n",
    " # enter the stage (Should be greater than zero)\n",
    "s =int(input(\"Enter the number of stage: \"))\n",
    "\n",
    "#factor to scale the ouptput\n",
    "factor = 200/s\n",
    "\n",
    "turtle.tracer(1,0)                   # stops screen updating  (to make it faster)\n",
    "fibspiral(s)\n",
    "turtle.Screen().exitonclick()        # turtle screen exits on click"
   ]
  },
  {
   "cell_type": "markdown",
   "id": "06926699",
   "metadata": {},
   "source": [
    "Example of the result of stage 5\n",
    "\n",
    "<td> <img src=\"fib.png\" width=\"500\" height=\"440\"> <td>"
   ]
  },
  {
   "cell_type": "code",
   "execution_count": null,
   "id": "aeca8b90",
   "metadata": {},
   "outputs": [],
   "source": []
  }
 ],
 "metadata": {
  "kernelspec": {
   "display_name": "Python 3 (ipykernel)",
   "language": "python",
   "name": "python3"
  },
  "language_info": {
   "codemirror_mode": {
    "name": "ipython",
    "version": 3
   },
   "file_extension": ".py",
   "mimetype": "text/x-python",
   "name": "python",
   "nbconvert_exporter": "python",
   "pygments_lexer": "ipython3",
   "version": "3.9.12"
  }
 },
 "nbformat": 4,
 "nbformat_minor": 5
}
