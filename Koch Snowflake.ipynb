{
 "cells": [
  {
   "cell_type": "markdown",
   "id": "27714c9a",
   "metadata": {},
   "source": [
    "# Koch Snowflake"
   ]
  },
  {
   "cell_type": "markdown",
   "id": "6886c13a",
   "metadata": {},
   "source": [
    "The Koch snowflake can be built up iteratively, in a sequence of stages. The first stage is an equilateral triangle, and each successive stage is formed by adding outward bends to each side of the previous stage, making smaller equilateral triangles. The areas enclosed by the successive stages in the construction of the snowflake converge to $8/5$ times the area of the original triangle, while the perimeters of the successive stages increase without bound. Consequently, the snowflake encloses a finite area, but has an infinite perimeter.\n",
    "\n",
    "Source: https://en.wikipedia.org/wiki/Koch_snowflake"
   ]
  },
  {
   "cell_type": "markdown",
   "id": "4e571fcb",
   "metadata": {},
   "source": [
    "<img src=\"f1.png\" width=\"300\" height=\"340\">   "
   ]
  },
  {
   "cell_type": "code",
   "execution_count": 1,
   "id": "21bd814d",
   "metadata": {},
   "outputs": [
    {
     "name": "stdout",
     "output_type": "stream",
     "text": [
      "Enter the number of stage: 2\n"
     ]
    }
   ],
   "source": [
    "import turtle   # import necessary package \n",
    "\n",
    "# length = length of the side\n",
    "# s = number of stages\n",
    "\n",
    "def snowflake(length, s): # recursion function \n",
    "    if s == 1:\n",
    "        turtle.forward(length)  # pen moves forward for the specified length\n",
    "        return\n",
    "    length /= 3.0               # length = length/3.0\n",
    "    snowflake(length, s-1)\n",
    "    turtle.left(60)             # pen turns left 60 degree\n",
    "    snowflake(length, s-1)\n",
    "    turtle.right(120)           # pen turns right 120 degree\n",
    "    snowflake(length, s-1)\n",
    "    turtle.left(60)\n",
    "    snowflake(length, s-1)\n",
    "\n",
    "def setup(length, s): # Turtle setup function \n",
    "    turtle.title(\"Koch Snowflake\")                  # title \n",
    "    turtle.setup(1000,1000)                         # Screen size \n",
    "    turtle.setworldcoordinates(-500,-500,500,500)   # coordinates to start\n",
    "    turtle.up()                                     # pen - up (wont write)\n",
    "    turtle.backward(length/2.0)                     # pen is moving to start point\n",
    "    turtle.down()                                   # pen - down (starts to write)\n",
    "    for _ in range(3):    \n",
    "        snowflake(length, s)\n",
    "        turtle.right(120)\n",
    "\n",
    "# enter the stage (Should be greater than zero)\n",
    "s =int(input(\"Enter the number of stage: \"))\n",
    "\n",
    "setup(300, s)\n",
    "turtle.done()\n",
    "turtle.Screen().exitonclick()                      # turtle screen exits on click"
   ]
  },
  {
   "cell_type": "markdown",
   "id": "500103b5",
   "metadata": {},
   "source": [
    "Example Picture of the result: \n",
    "<img src=\"snow.png\" width=\"500\" height=\"340\"> "
   ]
  },
  {
   "cell_type": "code",
   "execution_count": null,
   "id": "f7fc4728",
   "metadata": {},
   "outputs": [],
   "source": []
  }
 ],
 "metadata": {
  "kernelspec": {
   "display_name": "Python 3 (ipykernel)",
   "language": "python",
   "name": "python3"
  },
  "language_info": {
   "codemirror_mode": {
    "name": "ipython",
    "version": 3
   },
   "file_extension": ".py",
   "mimetype": "text/x-python",
   "name": "python",
   "nbconvert_exporter": "python",
   "pygments_lexer": "ipython3",
   "version": "3.9.12"
  }
 },
 "nbformat": 4,
 "nbformat_minor": 5
}
