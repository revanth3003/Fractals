{
 "cells": [
  {
   "cell_type": "markdown",
   "id": "a4f0f987",
   "metadata": {},
   "source": [
    "# Barnsley fern"
   ]
  },
  {
   "cell_type": "markdown",
   "id": "65f04e9e",
   "metadata": {},
   "source": [
    "The fern is one of the basic examples of self-similar sets, i.e. it is a mathematically generated pattern that can be reproducible at any magnification or reduction.\n",
    "\n",
    "Source : https://en.wikipedia.org/wiki/Barnsley_fern"
   ]
  },
  {
   "cell_type": "markdown",
   "id": "4ba36eb2",
   "metadata": {},
   "source": [
    "### Barnsley's matrix of constants"
   ]
  },
  {
   "cell_type": "markdown",
   "id": "f0f9c9ba",
   "metadata": {},
   "source": [
    "<tr>\n",
    "<td> <img src=\"leaf1.png\" width=\"500\" height=\"340\"> <td>\n",
    "<td> <img src=\"leaf.png\" width=\"400\" height=\"340\"> <td>\n",
    "<tr>    "
   ]
  },
  {
   "cell_type": "code",
   "execution_count": null,
   "id": "967d16cf",
   "metadata": {},
   "outputs": [],
   "source": [
    "import turtle  # import necessary package \n",
    "import random\n",
    "\n",
    "# n = number of points \n",
    "\n",
    "def leaf(n):\n",
    "    turtle.title(\"Barnsley's Fern\")         # title \n",
    "    turtle.setup(1000,1000)                 # Screen size \n",
    "    turtle.setworldcoordinates(-6,-1,6,11)  # coordinates to start\n",
    "    x,y = (0,0) \n",
    "    turtle.up()                             # pen - up (wont write)\n",
    "    turtle.hideturtle()                     # Hides the pointer\n",
    "    for i in range(n):\n",
    "        turtle.goto(x,y)\n",
    "        turtle.dot(2,'tomato')              # color\n",
    "        p = random.uniform(0,1)             # Uniform random points (p)\n",
    "        if p < 0.01:\n",
    "            x,y = (0,0.16*y)\n",
    "        elif p < 0.86:\n",
    "            x,y = (0.85*x + 0.04*y, -0.04*x + 0.85*y + 1.6)\n",
    "        elif p < 0.93:\n",
    "            x,y = (0.2*x - 0.26*y, 0.23*x + 0.22*y + 1.6)\n",
    "        else:\n",
    "            x,y = (-0.15*x + 0.28*y, 0.26*x + 0.24*y + 0.44)\n",
    "        \n",
    "        if i % 10000 == 0:        # updates for every 10000 moves (to make it faster)\n",
    "            turtle.update()\n",
    "\n",
    "# enter the Points (Should be greater than zero) \n",
    "# It gets better result for points more than 100,000)\n",
    "n =int(input(\"Enter the number of Points: \"))\n",
    "\n",
    "turtle.tracer(0,0)               # stop updating screen (to make it faster)\n",
    "leaf(n)        \n",
    "turtle.Screen().exitonclick()    # turtle screen exits on click"
   ]
  },
  {
   "cell_type": "markdown",
   "id": "af8e8499",
   "metadata": {},
   "source": [
    "Example Picture of the result: \n",
    "<img src=\"fernleaf.png\" width=\"500\" height=\"340\"> "
   ]
  },
  {
   "cell_type": "code",
   "execution_count": null,
   "id": "459f4d56",
   "metadata": {},
   "outputs": [],
   "source": []
  }
 ],
 "metadata": {
  "kernelspec": {
   "display_name": "Python 3 (ipykernel)",
   "language": "python",
   "name": "python3"
  },
  "language_info": {
   "codemirror_mode": {
    "name": "ipython",
    "version": 3
   },
   "file_extension": ".py",
   "mimetype": "text/x-python",
   "name": "python",
   "nbconvert_exporter": "python",
   "pygments_lexer": "ipython3",
   "version": "3.9.12"
  }
 },
 "nbformat": 4,
 "nbformat_minor": 5
}
