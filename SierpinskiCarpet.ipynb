{
 "cells": [
  {
   "cell_type": "markdown",
   "id": "1e8d8396",
   "metadata": {},
   "source": [
    "# Sierpiński carpet"
   ]
  },
  {
   "cell_type": "markdown",
   "id": "514d7a59",
   "metadata": {},
   "source": [
    "The technique of subdividing a shape into smaller copies of itself, removing one or more copies, and continuing recursively can be extended to other shapes. \n",
    "\n",
    " The construction of the Sierpiński carpet begins with a square. The square is cut into 9 congruent subsquares in a 3-by-3 grid, and the central subsquare is removed. The same procedure is then applied recursively to the remaining 8 subsquares, ad infinitum.\n",
    " \n",
    "Source : https://en.wikipedia.org/wiki/Sierpiński_carpet"
   ]
  },
  {
   "cell_type": "markdown",
   "id": "82ce8096",
   "metadata": {},
   "source": [
    "<tr>\n",
    "<td> <img src=\"s1.png\" width=\"300\" height=\"240\"> <td>\n",
    "<td> <img src=\"s2.png\" width=\"300\" height=\"240\"> <td>\n",
    "<td> <img src=\"s3.png\" width=\"300\" height=\"240\"> <td>\n",
    "<tr>    "
   ]
  },
  {
   "cell_type": "code",
   "execution_count": 1,
   "id": "eea1eab8",
   "metadata": {},
   "outputs": [
    {
     "name": "stdout",
     "output_type": "stream",
     "text": [
      "Enter the number of stage: 2\n"
     ]
    }
   ],
   "source": [
    "import turtle  # import necessary package \n",
    "\n",
    "# length = length of the side\n",
    "# s = number of stages\n",
    "\n",
    "def setup(length, color):          # Turtle setup function \n",
    "    turtle.hideturtle()            # Hides the pointer \n",
    "    turtle.fillcolor(color)   \n",
    "    turtle.begin_fill()            # starts color fill\n",
    "    for _ in range (4):\n",
    "        turtle.forward(length)\n",
    "        turtle.left(90)\n",
    "    turtle.end_fill()              # ends color fill\n",
    "\n",
    "def carpet(length, s):                               # recursion function \n",
    "    turtle.title(\"Sierpiński carpet\")                # title \n",
    "    turtle.setup(1000,1000)                          # Screen size \n",
    "    turtle.setworldcoordinates(-250,-250,500,500)    # coordinates to start\n",
    "    \n",
    "    if s == 1:                                       \n",
    "        setup(length,'black')\n",
    "        return\n",
    "    setup(length,'white')          # around center point create 8 smalles rectangles.\n",
    "    for _ in range(4):             # create two rectangles on every side & repeats it 4 times  \n",
    "        carpet(length/3, s-1)      # 1st rectangle  \n",
    "        turtle.forward(length/3)\n",
    "        carpet(length/3, s-1)      # 2nd rectangle\n",
    "        turtle.forward(length/3)\n",
    "        turtle.forward(length/3)   # go to next corner\n",
    "        turtle.left(90)\n",
    "    turtle.update() \n",
    "\n",
    "# enter the stage (Should be greater than zero)\n",
    "s =int(input(\"Enter the number of stage: \"))\n",
    "\n",
    "turtle.tracer(0,0)                  # stops screen updating  (to make it faster)\n",
    "carpet(300, s)\n",
    "turtle.Screen().exitonclick()       # turtle screen exits on click"
   ]
  },
  {
   "cell_type": "markdown",
   "id": "b2911937",
   "metadata": {},
   "source": [
    "Example Picture of the result: \n",
    "<img src=\"square.png\" width=\"500\" height=\"340\"> "
   ]
  },
  {
   "cell_type": "code",
   "execution_count": null,
   "id": "c048cb62",
   "metadata": {},
   "outputs": [],
   "source": []
  }
 ],
 "metadata": {
  "kernelspec": {
   "display_name": "Python 3 (ipykernel)",
   "language": "python",
   "name": "python3"
  },
  "language_info": {
   "codemirror_mode": {
    "name": "ipython",
    "version": 3
   },
   "file_extension": ".py",
   "mimetype": "text/x-python",
   "name": "python",
   "nbconvert_exporter": "python",
   "pygments_lexer": "ipython3",
   "version": "3.9.12"
  }
 },
 "nbformat": 4,
 "nbformat_minor": 5
}
