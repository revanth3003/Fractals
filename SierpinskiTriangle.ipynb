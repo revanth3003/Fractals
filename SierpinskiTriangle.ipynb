{
 "cells": [
  {
   "cell_type": "markdown",
   "id": "52301335",
   "metadata": {},
   "source": [
    "# Sierpinski’s Triangle"
   ]
  },
  {
   "cell_type": "markdown",
   "id": "bc9c2f06",
   "metadata": {},
   "source": [
    "The technique of subdividing a shape into smaller copies of itself, removing one or more copies, and continuing recursively can be extended to other shapes. \n",
    "\n",
    "The Sierpiński triangle is a fractal attractive fixed set with the overall shape of an equilateral triangle, subdivided recursively into smaller equilateral triangles.\n",
    "\n",
    "Start with an equilateral triangle.\n",
    "Subdivide it into four smaller congruent equilateral triangles and remove the central triangle.\n",
    "Repeat step 2 with each of the remaining smaller triangles infinitely.\n",
    "\n",
    "source: https://en.wikipedia.org/wiki/Sierpiński_triangle"
   ]
  },
  {
   "attachments": {
    "Sierpinski_triangle_evolution.svg": {
     "image/svg+xml": [
      "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"
     ]
    }
   },
   "cell_type": "markdown",
   "id": "916dd1bf",
   "metadata": {},
   "source": [
    "![Sierpinski_triangle_evolution.svg](attachment:Sierpinski_triangle_evolution.svg)"
   ]
  },
  {
   "cell_type": "code",
   "execution_count": 4,
   "id": "906c2b0f",
   "metadata": {},
   "outputs": [
    {
     "name": "stdout",
     "output_type": "stream",
     "text": [
      "Enter the number of stage: 4\n"
     ]
    }
   ],
   "source": [
    "# enter the stage (Should be greater than zero)\n",
    "s =int(input(\"Enter the number of stage: \"))"
   ]
  },
  {
   "cell_type": "code",
   "execution_count": 5,
   "id": "add6ecea",
   "metadata": {},
   "outputs": [],
   "source": [
    "import turtle #importing necessary package \n",
    "\n",
    "def setup(points,color):                            # turtle setup function\n",
    "    turtle.title(\"Sierpiński Triangle\")             # title \n",
    "    turtle.setup(1000,1000)                         # Screen size \n",
    "    turtle.setworldcoordinates(-500,-500,500,500)   # coordinates to start\n",
    "    turtle.fillcolor(color)\n",
    "    turtle.up()                                     # pen - up (wont write)\n",
    "    turtle.goto(points[0][0],points[0][1])\n",
    "    turtle.down()                                   # pen - down (starts to write)\n",
    "    turtle.begin_fill()                             # starts color fill\n",
    "    turtle.goto(points[1][0],points[1][1])\n",
    "    turtle.goto(points[2][0],points[2][1])\n",
    "    turtle.goto(points[0][0],points[0][1])\n",
    "    turtle.end_fill()                               # starts color fill\n",
    "\n",
    "def Midpd(p1,p2):                                   #function to find midpoint\n",
    "    return ((p1[0]+p2[0])/2,(p1[1]+p2[1])/2) \n",
    "\n",
    "# points = initializing size of the triangle\n",
    "# s = number of stages\n",
    "\n",
    "def triangle(points,s):                         # Recursion function\n",
    "    \n",
    "    if s==1:\n",
    "        setup(points,'black')\n",
    "        return\n",
    "    setup(points,'white')\n",
    "    if s>1: \n",
    "        triangle([points[0], Midpd(points[0],points[1]), Midpd(points[0],points[2])], s-1) \n",
    "        triangle([points[1], Midpd(points[0],points[1]), Midpd(points[1],points[2])], s-1)\n",
    "        triangle([points[2], Midpd(points[2],points[1]), Midpd(points[0],points[2])], s-1)\n",
    "        turtle.update()\n",
    "\n",
    "\n",
    "# enter the stage (Should be greater than zero)\n",
    "s =int(input(\"Enter the number of stage: \"))\n",
    "\n",
    "turtle.tracer(0,0)                        # stops screen updating  (to make it faster)\n",
    "points = [[-250,-200],[0,250],[250,-200]] \n",
    "triangle(points,s) \n",
    "turtle.Screen().exitonclick()             # turtle screen exits on click"
   ]
  },
  {
   "cell_type": "markdown",
   "id": "e46f2f43",
   "metadata": {},
   "source": [
    "Example picture of the result: \n",
    "<img src=\"trianlge.png\" width=\"500\" height=\"340\"> "
   ]
  },
  {
   "cell_type": "code",
   "execution_count": null,
   "id": "6d89fd84",
   "metadata": {},
   "outputs": [],
   "source": []
  }
 ],
 "metadata": {
  "kernelspec": {
   "display_name": "Python 3 (ipykernel)",
   "language": "python",
   "name": "python3"
  },
  "language_info": {
   "codemirror_mode": {
    "name": "ipython",
    "version": 3
   },
   "file_extension": ".py",
   "mimetype": "text/x-python",
   "name": "python",
   "nbconvert_exporter": "python",
   "pygments_lexer": "ipython3",
   "version": "3.9.12"
  }
 },
 "nbformat": 4,
 "nbformat_minor": 5
}
