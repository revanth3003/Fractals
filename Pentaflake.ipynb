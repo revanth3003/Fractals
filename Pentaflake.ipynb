{
 "cells": [
  {
   "cell_type": "markdown",
   "id": "1e8d8396",
   "metadata": {},
   "source": [
    "# Pentaflake"
   ]
  },
  {
   "cell_type": "markdown",
   "id": "514d7a59",
   "metadata": {},
   "source": [
    "A pentaflake, or sierpinski pentagon, is formed by successive flakes of six regular pentagons Each flake is formed by placing a pentagon in each corner and one in the center. Its Hausdorff dimension is equal to $\\textstyle {{\\frac  {\\log(6)}{\\log(1+\\varphi )}}} ≈ 1.8617$, where $\\textstyle {\\varphi ={\\frac  {1+{\\sqrt  5}}{2}}}$ (golden ratio).\n",
    "The $\\textstyle {{\\frac  {\\log(6)}{\\log(1+\\varphi )}}}$ is obtained because each iteration has 6 pentagons that are scaled by $\\textstyle {{\\frac  {1}{1+\\varphi }}}$. The boundary of a pentaflake is the Koch curve of 72 degrees.\n",
    "There is also a variation of the pentaflake that has no central pentagon. Its Hausdorff dimension equals $\\textstyle {{\\frac  {\\log(5)}{\\log(1+\\varphi )}}} ≈ 1.6723.$ This variation still contains infinitely many Koch curves, but they are somewhat more visible.\n",
    "\n",
    "source:https://en.wikipedia.org/wiki/N-flake"
   ]
  },
  {
   "cell_type": "code",
   "execution_count": 5,
   "id": "aeca8b90",
   "metadata": {},
   "outputs": [
    {
     "name": "stdout",
     "output_type": "stream",
     "text": [
      "Enter the number of stage: 3\n"
     ]
    }
   ],
   "source": [
    "import turtle\n",
    "import math\n",
    "\n",
    "\n",
    "def setup(x,y,r,direction): \n",
    "    turtle.up()\n",
    "    turtle.goto(x,y)\n",
    "    turtle.seth(direction)\n",
    "    turtle.fd(r)\n",
    "    turtle.left(126)\n",
    "    turtle.down()\n",
    "    turtle.begin_fill()\n",
    "    for _ in range(5):\n",
    "        turtle.fd(2*r*math.sin(math.radians(36)))\n",
    "        turtle.left(72)\n",
    "    turtle.end_fill()\n",
    "    \n",
    "def pentaflake(x,y,r,direction,n):\n",
    "    \n",
    "    if n==1:\n",
    "        setup(x,y,r,direction)\n",
    "        return\n",
    "\n",
    "    r1 = r/(1+2*math.cos(math.radians(36)))\n",
    "    d = 2*r1*math.cos(math.radians(36))\n",
    "    for _ in range(5):\n",
    "        x1, y1 = x + d * math.cos(math.radians(direction)),y + d * math.sin(math.radians(direction))\n",
    "        pentaflake(x1,y1,r1,direction,n-1)\n",
    "        direction += 72\n",
    "    pentaflake(x,y,r1,direction+180,n-1,)\n",
    "    \n",
    "\n",
    "# enter the stage (Should be greater than zero)\n",
    "s =int(input(\"Enter the number of stage: \"))\n",
    "\n",
    "# Initial Values\n",
    "x = 0\n",
    "y = 0\n",
    "r = 500\n",
    "direction = 90\n",
    "\n",
    "# turtle Setup\n",
    "turtle.title('Pentaflake')                           # title \n",
    "turtle.setup(1000,1000)                              # Screen size \n",
    "turtle.setworldcoordinates(-1000,-1000,1000,1000)    # coordinates to start\n",
    "turtle.tracer(0,0)\n",
    "turtle.fillcolor('black')\n",
    "\n",
    "pentaflake(x,y,r,direction,s)\n",
    "turtle.update()\n",
    "turtle.Screen().exitonclick()        # turtle screen exits on click"
   ]
  },
  {
   "cell_type": "markdown",
   "id": "e27ce799",
   "metadata": {},
   "source": [
    "Example of the result of stage 5\n",
    "\n",
    "<td> <img src=\"pentaflake.png\" width=\"500\" height=\"440\"> <td>"
   ]
  },
  {
   "cell_type": "code",
   "execution_count": null,
   "id": "f3f98aad",
   "metadata": {},
   "outputs": [],
   "source": []
  }
 ],
 "metadata": {
  "kernelspec": {
   "display_name": "Python 3 (ipykernel)",
   "language": "python",
   "name": "python3"
  },
  "language_info": {
   "codemirror_mode": {
    "name": "ipython",
    "version": 3
   },
   "file_extension": ".py",
   "mimetype": "text/x-python",
   "name": "python",
   "nbconvert_exporter": "python",
   "pygments_lexer": "ipython3",
   "version": "3.9.12"
  }
 },
 "nbformat": 4,
 "nbformat_minor": 5
}
